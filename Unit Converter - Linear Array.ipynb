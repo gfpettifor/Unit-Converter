{
 "cells": [
  {
   "cell_type": "markdown",
   "id": "58a38c1c-6344-4fb1-9fb2-0deaadca2a8a",
   "metadata": {},
   "source": [
    "# Unit Converter - Linear Array Approach"
   ]
  },
  {
   "cell_type": "markdown",
   "id": "57acbb8a-b99a-4a1e-9b68-646e8838aa35",
   "metadata": {},
   "source": [
    "This is a unit converter that takes three inputs, a value, the values unit, and the desired output unit. It fits under the linear array aproach for unit converters as it calculates how to convert between units by hunting for the original and desired units in an array. Once found, provided the units are compatible, it calculates the product of all the conversion rates between the two units, and finally multiplies the original value by this product."
   ]
  },
  {
   "cell_type": "code",
   "execution_count": 1,
   "id": "73e0053c-b7f1-4361-910d-cc350724ca17",
   "metadata": {},
   "outputs": [],
   "source": [
    "#importing necessary libraries\n",
    "import numpy as np\n",
    "import matplotlib.pyplot as plt\n",
    "import math\n",
    "import logging\n",
    "logging.basicConfig(level=logging.INFO, format=\"%(levelname)s: %(message)s\")\n",
    "logging.getLogger().setLevel(logging.INFO) "
   ]
  },
  {
   "cell_type": "markdown",
   "id": "765c33dc-efe3-4137-9f3c-c1aa1f438200",
   "metadata": {},
   "source": [
    "#### Defining reusable functions that I have made previously"
   ]
  },
  {
   "cell_type": "markdown",
   "id": "b3e68262-4c51-40db-be1d-5b5a54103a62",
   "metadata": {},
   "source": [
    "In the following cell are functions that I have previously created for reocurring problems. These are: \n",
    "1. sigfigs_str which takes a string input (string) assuming it contains a number, and calculates the significant figures to which the number is given.\n",
    "2. round_sf which takes a float and an integer input (x,sf) and rounds the float to the number of significant figures specified by the integer.\n",
    "3. floatconv takes a string input (instr) and converts it to a float if the string is not problematic (ie has max. 1 decimal and no other non-digit characters). If the string is problematic, an error is raised depending on whether its a decimal error or a non-digit character error.\n",
    "4. find which takes a string input (target) and an array name (array) and finds the target string in the array even if there are nested arrays. The find function will raise an error if the target string is not found in the array."
   ]
  },
  {
   "cell_type": "code",
   "execution_count": 2,
   "id": "7d2deb99-f85b-4932-b982-fa7caaa52987",
   "metadata": {},
   "outputs": [],
   "source": [
    "#defining a function that will calculate the significant figures of a number given as a string\n",
    "def sigfigs_str(string):\n",
    "    if \".\" in string:\n",
    "        digits = string.replace(\".\", \"\").lstrip(\"0\")\n",
    "    else:\n",
    "        digits = string.lstrip(\"0\")\n",
    "    logging.debug(f\"sigfigs_str called with string = '{string}' digits = '{digits}'\")\n",
    "    if not digits:\n",
    "        return 0\n",
    "    return len(digits)\n",
    "\n",
    "#defining a function that will round based on significant figures rather than decimals\n",
    "def round_sf(x, sf):\n",
    "    \n",
    "    if x == 0:\n",
    "        return 0\n",
    "    else:\n",
    "        rounded = round(x, sf - int(math.floor(math.log10(abs(x)))+1))\n",
    "        logging.debug(f\"round_sf called with x = '{x}' sf = '{sf}' giving rounded = '{rounded}'\")\n",
    "        return rounded\n",
    "\n",
    "#defining a float conversion function to take string input and return a float or an error\n",
    "def floatconv(instr):\n",
    "    decimal_seen = False\n",
    "    out = 0.0\n",
    "    for i, char in enumerate(instr):\n",
    "        if char.isdigit():\n",
    "            continue\n",
    "        elif char == '.':\n",
    "            if decimal_seen:\n",
    "                raise ValueError(f\"Error: too many decimals in input '{instr}'\")\n",
    "            decimal_seen = True\n",
    "        else:\n",
    "            raise ValueError(f\"Error: non-numerical character '{char}' in input '{instr}'\")\n",
    "    logging.debug(f\"floatconv called with instr = '{instr}' giving out = '{float(instr)}'\")\n",
    "    return float(instr)\n",
    "\n",
    "#defining a find function to find a target in an array that may have arrays in it\n",
    "def find(array, target, path=None, top=True):\n",
    "    if path is None:\n",
    "        path = []\n",
    "    for i, item in enumerate(array):\n",
    "        if isinstance(item, list):\n",
    "            result = find(item, target, path + [i], top=False)\n",
    "            if result is not None:\n",
    "                return result\n",
    "        elif item == target:\n",
    "            path += [i]\n",
    "            logging.debug(f\"find called with target = '{target}' giving path = '{path}'\")\n",
    "            return path\n",
    "    if top:\n",
    "        raise IndexError(f\"Error: input unit '{target}' not found\")\n",
    "    return None"
   ]
  },
  {
   "cell_type": "markdown",
   "id": "a39ae518-06e8-4250-af78-dbc87c34197b",
   "metadata": {},
   "source": [
    "#### Defining the convert function"
   ]
  },
  {
   "cell_type": "markdown",
   "id": "029582ed-c953-4a32-8c3d-dd0c49dabc52",
   "metadata": {},
   "source": [
    "The following cell contains the convert function that is specific to unit conversion. Within the convert function lies a cal (calculate) function that does the actual maths of converting units. The cal function is only called if units are compatible (i.e a weight to a weight) and if the original unit and the desired unit arent the same. If the units arent compatible an error is raised to testify to this. All the functions in the previous cell are called up for formatting inputs and outputs to the correct type and to suitable length (ie rounding). As you can see, the available units and conversions between units are hard codded into the convert function at the start. They could be extracted from a csv file and it would be more suitable to format them as one nested dictionary rather than two nested arrays (Units and Conversions), but I havent as this is basic file handling and formating and that was not what I was practicing by making this function. You can also see that each nested array in Conversions is one element shorter than it corresponding nested array in Units. This is as each value in Conversions, is the multiplication factor you would need to go from the corresponding position in Units, to the one on its immediate right (confusing I know). For example in Weights, you would have to multiply a value measured in st (4th element in Weights) by 14.0 (4th element in Weightsconv) to get the equivalent weight in lb (5th element in Weights)."
   ]
  },
  {
   "cell_type": "code",
   "execution_count": 3,
   "id": "4b3f0864-a778-4bc6-bf3b-3c172720739d",
   "metadata": {},
   "outputs": [],
   "source": [
    "#defining a convert function to convert the input value from the input units to the output units\n",
    "def convert(invalstr,inunit,outunit):\n",
    "    \n",
    "    #defining units and their conversion rates\n",
    "    Weights = [\"tonne\",\"kg\",\"g\",\"st\",\"lb\",\"oz\"]\n",
    "    Distances = [\"km\",\"m\",\"cm\",\"mm\",\"mi\",\"yd\",\"ft\",\"in\"]\n",
    "    Volumes = [\"m3\",\"l\",\"cc\",\"ml\",\"yd3\",\"ft3\",\"in3\",\"gal\",\"qt\",\"pt\",\"c\",\"floz\",\"tbsp\",\"tsp\"]\n",
    "    Units = [Weights,Distances,Volumes]\n",
    "    Weightsconv = [1000.0,1000.0,0.0001574730901,14.0,16.0]\n",
    "    Distancesconv = [1000.0,100.0,10.0,0.0000006213711922,1760.0,3.0,12.0]\n",
    "    Volumesconv = [1000.0,1000.0,1.0,0.000001307950619,27.0,1728.0,0.004329004329,4.0,2.0,2.0,8.0,2.0,3.0]\n",
    "    Conversions = [Weightsconv,Distancesconv,Volumesconv]\n",
    "\n",
    "    #defining the internal calculation function\n",
    "    def cal(inval,inunitpos,outunitpos):\n",
    "        fac = 1.0\n",
    "        x = 0\n",
    "        while x < abs(outunitpos[1]-inunitpos[1]):\n",
    "            array = Conversions[inunitpos[0]]\n",
    "            if inunitpos[1]<outunitpos[1]:\n",
    "                fac = fac*array[inunitpos[1]+x]\n",
    "            elif inunitpos[1]>outunitpos[1]:\n",
    "                fac = fac/array[outunitpos[1]+x]\n",
    "            x = x + 1\n",
    "        outval = inval * fac\n",
    "        logging.debug(f\"cal called with inval = '{inval}' inunitpos = '{inunitpos}' outunitpos = '{outunitpos}' giving outval = '{outval}'\")\n",
    "        return outval\n",
    "    \n",
    "    #processing inputs\n",
    "    inval = floatconv(invalstr)\n",
    "    sigfig = sigfigs_str(invalstr)\n",
    "    #allowing minimum sigfig of 3 even if fewer were given\n",
    "    if sigfig<3:\n",
    "        sigfig = 3\n",
    "    #finding units\n",
    "    inunitpos = find(Units,inunit)\n",
    "    outunitpos = find(Units,outunit)\n",
    "\n",
    "    #comparing units for compatibility\n",
    "    if inunitpos[0] != outunitpos[0]:\n",
    "        raise KeyError(f\"Error: incompatible units '{inunit}' and '{outunit}'\")\n",
    "    #avoiding processing if input unit and output unit are the same\n",
    "    elif inunitpos == outunitpos:\n",
    "        print(\"You have entered the same units.\")\n",
    "        outval = inval\n",
    "    #processing everything else\n",
    "    else:\n",
    "        outval = round_sf(cal(inval,inunitpos,outunitpos),sigfig)\n",
    "\n",
    "    #giving the final output\n",
    "    print(inval,inunit,\" is equal to \",outval,outunit,\" to \",sigfig,\"significant figures.\")"
   ]
  },
  {
   "cell_type": "markdown",
   "id": "288a801f-3004-45c6-a38b-ba184e8414f3",
   "metadata": {},
   "source": [
    "#### Calling the overall  convert function"
   ]
  },
  {
   "cell_type": "markdown",
   "id": "3f9bc1c4-f121-4f74-8a65-79d8292d5fa0",
   "metadata": {},
   "source": [
    "Here the function can be called. There are a few examples of how the function handles potentially problematic inputs, and the final cell can be run to given inputs in the notebook. "
   ]
  },
  {
   "cell_type": "code",
   "execution_count": 4,
   "id": "49212598-7cca-4188-ab29-711eaa07c013",
   "metadata": {},
   "outputs": [
    {
     "name": "stdout",
     "output_type": "stream",
     "text": [
      "5.0 lb  is equal to  2.27 kg  to  3 significant figures.\n"
     ]
    }
   ],
   "source": [
    "#Example: this example is just simple and as the function is intended to be used\n",
    "convert(\"5\",\"lb\",\"kg\")"
   ]
  },
  {
   "cell_type": "code",
   "execution_count": 5,
   "id": "d9928543-922b-42f4-989b-7ffd32f50532",
   "metadata": {},
   "outputs": [
    {
     "name": "stdin",
     "output_type": "stream",
     "text": [
      "Please input the value you want to convert: 127\n",
      "Please input the original unit: in\n",
      "Please input the desired unit: m\n"
     ]
    },
    {
     "name": "stdout",
     "output_type": "stream",
     "text": [
      "127.0 in  is equal to  3.23 m  to  3 significant figures.\n"
     ]
    }
   ],
   "source": [
    "#calling convert\n",
    "val = input(\"Please input the value you want to convert:\")\n",
    "inunit = input(\"Please input the original unit:\")\n",
    "outunit = input(\"Please input the desired unit:\")\n",
    "logging.getLogger().setLevel(logging.INFO)\n",
    "#logging.getLogger().setLevel(logging.DEBUG) \"\"\"un-comment to run debug\"\"\"\n",
    "convert(val,inunit,outunit)"
   ]
  }
 ],
 "metadata": {
  "kernelspec": {
   "display_name": "Python [conda env:base] *",
   "language": "python",
   "name": "conda-base-py"
  },
  "language_info": {
   "codemirror_mode": {
    "name": "ipython",
    "version": 3
   },
   "file_extension": ".py",
   "mimetype": "text/x-python",
   "name": "python",
   "nbconvert_exporter": "python",
   "pygments_lexer": "ipython3",
   "version": "3.13.5"
  }
 },
 "nbformat": 4,
 "nbformat_minor": 5
}
